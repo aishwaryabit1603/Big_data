{
  "nbformat": 4,
  "nbformat_minor": 0,
  "metadata": {
    "colab": {
      "provenance": [],
      "authorship_tag": "ABX9TyOXWSIJHFmY1LsG+TTy+8Ii",
      "include_colab_link": true
    },
    "kernelspec": {
      "name": "python3",
      "display_name": "Python 3"
    },
    "language_info": {
      "name": "python"
    }
  },
  "cells": [
    {
      "cell_type": "markdown",
      "metadata": {
        "id": "view-in-github",
        "colab_type": "text"
      },
      "source": [
        "<a href=\"https://colab.research.google.com/github/aishwaryabit1603/Big_data/blob/main/lab1.ipynb\" target=\"_parent\"><img src=\"https://colab.research.google.com/assets/colab-badge.svg\" alt=\"Open In Colab\"/></a>"
      ]
    },
    {
      "cell_type": "markdown",
      "source": [
        "NumPy\n",
        "1. Reverse the NumPy array: arr = np.array([1, 2, 3, 6, 4, 5]) )\n",
        "2. Compare the following numpy arrays: arr1 = np.array([[1, 2], [3, 4]])\n",
        " arr2 = np.array([[1, 2], [3, 4]])\n",
        "3. Find the most frequent value and their indice(s) in the following arrays:\n",
        "i. x = np.array([1,2,3,4,5,1,2,1,1,1])\n",
        "ii. y = np.array([1, 1, 1, 2, 3, 4, 2, 4, 3, 3, ])\n",
        "4. For the array gfg = np.matrix('[4, 1, 9; 12, 3, 1; 4, 5, 6]'),\n",
        "find i. Sum of all elements\n",
        "ii. Sum of all elements row-wise\n",
        "iii. Sum of all elements column-wise"
      ],
      "metadata": {
        "id": "O5nYOmLQBEMC"
      }
    },
    {
      "cell_type": "code",
      "source": [
        "import numpy as np\n",
        "import random"
      ],
      "metadata": {
        "id": "2yu_Hw0ABGhN"
      },
      "execution_count": 3,
      "outputs": []
    },
    {
      "cell_type": "code",
      "source": [
        "# 1\n",
        "arr = np.array([1, 2, 3, 6, 4, 5])\n",
        "print(arr[::-1])\n",
        "print(arr[-1::-1])"
      ],
      "metadata": {
        "colab": {
          "base_uri": "https://localhost:8080/"
        },
        "id": "oMFRG_xeBLq5",
        "outputId": "6eb840b1-2b9d-450e-ec79-f494a02cb3c0"
      },
      "execution_count": 5,
      "outputs": [
        {
          "output_type": "stream",
          "name": "stdout",
          "text": [
            "[5 4 6 3 2 1]\n",
            "[5 4 6 3 2 1]\n"
          ]
        }
      ]
    },
    {
      "cell_type": "code",
      "source": [
        "# 2\n",
        "arr1 = np.array([[1, 2], [3, 4]])\n",
        "arr2 = np.array([[1, 2], [3, 4]])\n",
        "print(arr1 == arr2)\n",
        "\n",
        "comparison = arr1 == arr2\n",
        "print(comparison)\n",
        "\n",
        "# checks if all elements in boolean are true or not\n",
        "print(comparison.all())\n",
        "\n",
        "print(np.greater(arr1,arr2))\n",
        "print(np.greater_equal(arr1,arr2))\n",
        "\n",
        "print(np.less(arr1,arr2))\n",
        "print(np.less_equal(arr1,arr2))"
      ],
      "metadata": {
        "colab": {
          "base_uri": "https://localhost:8080/"
        },
        "id": "Ko6wd5HaBRyj",
        "outputId": "e6663eb4-a8f2-4de9-f87b-708d7dd3b26a"
      },
      "execution_count": 6,
      "outputs": [
        {
          "output_type": "stream",
          "name": "stdout",
          "text": [
            "[[ True  True]\n",
            " [ True  True]]\n",
            "[[ True  True]\n",
            " [ True  True]]\n",
            "True\n",
            "[[False False]\n",
            " [False False]]\n",
            "[[ True  True]\n",
            " [ True  True]]\n",
            "[[False False]\n",
            " [False False]]\n",
            "[[ True  True]\n",
            " [ True  True]]\n"
          ]
        }
      ]
    },
    {
      "cell_type": "code",
      "source": [
        "# 3\n",
        "x = np.array([1,2,3,4,5,1,2,1,1,1])\n",
        "unique_x,count_x = np.unique(x,return_counts=True)\n",
        "\n",
        "# now we will find index of in count_x array where count is max\n",
        "freq = np.argmax(count_x)\n",
        "print(\"X = \",x)\n",
        "print(unique_x[freq],\" with max count of \",count_x[freq])\n",
        "\n",
        "y = np.array([1, 1, 1, 2, 3, 4, 2, 4, 3, 3])\n",
        "unique_y,count_y = np.unique(y,return_counts=True)\n",
        "freq2 = np.argmax(count_y)\n",
        "print(\"\\nY = \",y)\n",
        "print(unique_y[freq2],\" with max count of \",count_y[freq2])"
      ],
      "metadata": {
        "colab": {
          "base_uri": "https://localhost:8080/"
        },
        "id": "QiNFh6NiDX7M",
        "outputId": "113cbdd9-a4ce-479b-b6ae-4c31179ee1a2"
      },
      "execution_count": 14,
      "outputs": [
        {
          "output_type": "stream",
          "name": "stdout",
          "text": [
            "X =  [1 2 3 4 5 1 2 1 1 1]\n",
            "1  with max count of  5\n",
            "\n",
            "Y =  [1 1 1 2 3 4 2 4 3 3]\n",
            "1  with max count of  3\n"
          ]
        }
      ]
    },
    {
      "cell_type": "code",
      "source": [
        "# 4\n",
        "gfg = np.matrix('[4, 1, 9; 12, 3, 1; 4, 5, 6]')\n",
        "print(\"Sum of all Elements : \",gfg.sum())\n",
        "\n",
        "# 0 - columns\n",
        "print(\"Sum of all Elements column wise : \",gfg.sum(axis=0))\n",
        "\n",
        "# 1 - row\n",
        "print(\"Sum of all Elements Rowise wise : \")\n",
        "print(gfg.sum(axis=1))"
      ],
      "metadata": {
        "colab": {
          "base_uri": "https://localhost:8080/"
        },
        "id": "dxbygj9aJC9y",
        "outputId": "88070d8d-6cd3-4dc4-9c89-316294cd2afa"
      },
      "execution_count": 20,
      "outputs": [
        {
          "output_type": "stream",
          "name": "stdout",
          "text": [
            "Sum of all Elements :  45\n",
            "Sum of all Elements column wise :  [[20  9 16]]\n",
            "Sum of all Elements column wise : \n",
            "[[14]\n",
            " [16]\n",
            " [15]]\n"
          ]
        }
      ]
    }
  ]
}
